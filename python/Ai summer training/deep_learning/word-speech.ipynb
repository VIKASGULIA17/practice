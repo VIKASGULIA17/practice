{
 "cells": [
  {
   "cell_type": "code",
   "execution_count": 5,
   "id": "196b40c4-3f75-439c-a481-cd5e0ee76016",
   "metadata": {},
   "outputs": [],
   "source": [
    "from gtts import gTTS\n",
    "import os\n",
    "\n",
    "# Read the content of the file\n",
    "with open('test.txt', 'r', encoding='utf-8') as file:\n",
    "    text = file.read()\n",
    "\n",
    "# Check if the text is empty\n",
    "if not text.strip():\n",
    "    print(\"The file is empty or contains only whitespace.\")\n",
    "else:\n",
    "    # Create a gTTS object\n",
    "    tts = gTTS(text=text, lang='en')\n",
    "\n",
    "    # Save the audio file\n",
    "    output_file = \"output.mp3\"\n",
    "    tts.save(output_file)\n",
    "\n",
    "    # Play the audio (optional, depends on OS)\n",
    "    try:\n",
    "        os.system(\"xdg-open \" + output_file)  # Linux\n",
    "    except:\n",
    "        try:\n",
    "            os.system(\"open \" + output_file)  # macOS\n",
    "        except:\n",
    "            try:\n",
    "                os.system(\"start \" + output_file)  # Wi\"ndows\n",
    "            except:\n",
    "                print(\"Cannot play audio automatically. File saved as:\", output_file)"
   ]
  },
  {
   "cell_type": "code",
   "execution_count": null,
   "id": "05f1896f-b2c3-408b-afd4-21c10623c7eb",
   "metadata": {},
   "outputs": [],
   "source": []
  },
  {
   "cell_type": "code",
   "execution_count": null,
   "id": "fe312226-bc65-4c3c-bf69-7a8e25b38f02",
   "metadata": {},
   "outputs": [],
   "source": []
  }
 ],
 "metadata": {
  "kernelspec": {
   "display_name": "Python 3 (ipykernel)",
   "language": "python",
   "name": "python3"
  },
  "language_info": {
   "codemirror_mode": {
    "name": "ipython",
    "version": 3
   },
   "file_extension": ".py",
   "mimetype": "text/x-python",
   "name": "python",
   "nbconvert_exporter": "python",
   "pygments_lexer": "ipython3",
   "version": "3.13.5"
  }
 },
 "nbformat": 4,
 "nbformat_minor": 5
}
